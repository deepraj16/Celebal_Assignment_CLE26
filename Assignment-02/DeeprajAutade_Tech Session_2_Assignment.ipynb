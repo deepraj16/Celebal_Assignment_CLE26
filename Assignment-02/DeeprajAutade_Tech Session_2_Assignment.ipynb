{
 "cells": [
  {
   "cell_type": "markdown",
   "id": "0f323973-4ae1-427c-974c-46f7284fbb04",
   "metadata": {},
   "source": [
    "# Conditional Statements"
   ]
  },
  {
   "cell_type": "code",
   "execution_count": 3,
   "id": "95cac499-d956-48c0-a000-d5eb47ceb056",
   "metadata": {},
   "outputs": [
    {
     "name": "stdin",
     "output_type": "stream",
     "text": [
      "Enter first number:  23\n",
      "Enter second number:  3\n",
      "Enter third number:  4\n",
      "Enter fourth number:  5\n"
     ]
    },
    {
     "name": "stdout",
     "output_type": "stream",
     "text": [
      "Maximum number is: 23\n",
      "Minimum number is: 3\n"
     ]
    }
   ],
   "source": [
    "\"\"\"question1 - Write a program to read 4 values and display maximum and minimum both.\"\"\"\n",
    "\n",
    "a = int(input(\"Enter first number: \"))\n",
    "b = int(input(\"Enter second number: \"))\n",
    "c = int(input(\"Enter third number: \"))\n",
    "d = int(input(\"Enter fourth number: \"))\n",
    "\n",
    "max_ = max(a, b, c, d)\n",
    "mini_ = min(a, b, c, d)\n",
    "\n",
    "print(\"Maximum number is:\", max_)\n",
    "print(\"Minimum number is:\", mini_)\n"
   ]
  },
  {
   "cell_type": "code",
   "execution_count": 4,
   "id": "4e6bec40-0f83-44f1-a5b9-49b47da5ac7c",
   "metadata": {},
   "outputs": [
    {
     "name": "stdin",
     "output_type": "stream",
     "text": [
      "Enter marks of subject 1:  34\n",
      "Enter marks of subject 2:  56\n",
      "Enter marks of subject 3:  67\n"
     ]
    },
    {
     "name": "stdout",
     "output_type": "stream",
     "text": [
      "Result: Failed\n"
     ]
    }
   ],
   "source": [
    "\"\"\"2) - Write a program to read marks of a student in 3 subjects and display result.\"\"\"\n",
    "\n",
    "# marks\n",
    "sub1 = int(input(\"Enter marks of subject 1: \"))\n",
    "sub2 = int(input(\"Enter marks of subject 2: \"))\n",
    "sub3 = int(input(\"Enter marks of subject 3: \"))\n",
    "\n",
    "aver = (sub1 + sub2 + sub3) / 3\n",
    "\n",
    "if sub1 > 50 and sub2 > 50 and sub3 > 50:\n",
    "    print(\"Result: Passed\")\n",
    "elif (\n",
    "    ((sub1 > 50 and sub2 > 50 and sub3 > 40) or\n",
    "     (sub1 > 50 and sub3 > 50 and sub2 > 40) or\n",
    "     (sub2 > 50 and sub3 > 50 and sub1 > 40))\n",
    "    and aver > 50\n",
    "):\n",
    "    print(\"Result: Passed by Grace\")\n",
    "else:\n",
    "    print(\"Result: Failed\")\n"
   ]
  },
  {
   "cell_type": "code",
   "execution_count": 6,
   "id": "ca416cda-d5fb-4c4e-b0a6-f3b8d6d14803",
   "metadata": {},
   "outputs": [
    {
     "name": "stdin",
     "output_type": "stream",
     "text": [
      "Enter x coordinate:  -1\n",
      "Enter y coordinate:  5\n"
     ]
    },
    {
     "name": "stdout",
     "output_type": "stream",
     "text": [
      "Point lies in 2nd Quadrant\n"
     ]
    }
   ],
   "source": [
    "\"\"\"question3 - Write a program to read coordinates of a point and check its position.\"\"\"\n",
    "\n",
    "# coordinates\n",
    "x = float(input(\"Enter x coordinate: \"))\n",
    "y = float(input(\"Enter y coordinate: \"))\n",
    "\n",
    "if x == 0 and y == 0:\n",
    "    print(\"Point lies on Origin\")\n",
    "elif x == 0 and y != 0:\n",
    "    print(\"Point lies on Y-axis\")\n",
    "elif x != 0 and y == 0:\n",
    "    print(\"Point lies on X-axis\")\n",
    "elif x > 0 and y > 0:\n",
    "    print(\"Point lies in 1st Quadrant\")\n",
    "elif x < 0 and y > 0:\n",
    "    print(\"Point lies in 2nd Quadrant\")\n",
    "elif x < 0 and y < 0:\n",
    "    print(\"Point lies in 3rd Quadrant\")\n",
    "elif x > 0 and y < 0:\n",
    "    print(\"Point lies in 4th Quadrant\")\n"
   ]
  },
  {
   "cell_type": "code",
   "execution_count": null,
   "id": "6e6c5364-eff5-4157-a10b-8037733c7dfe",
   "metadata": {},
   "outputs": [],
   "source": []
  },
  {
   "cell_type": "markdown",
   "id": "af7ee0ee-77c2-4801-b32b-8892c694a55e",
   "metadata": {},
   "source": [
    "# Loops (Iterations)"
   ]
  },
  {
   "cell_type": "code",
   "execution_count": 8,
   "id": "06bbecf4-d04d-4cc7-a1d6-088383ffdbde",
   "metadata": {},
   "outputs": [
    {
     "name": "stdin",
     "output_type": "stream",
     "text": [
      "Enter a 5-digit number:  12345\n",
      "Enter a single-digit number:  2\n"
     ]
    },
    {
     "name": "stdout",
     "output_type": "stream",
     "text": [
      "The digit 2 appears 1 time(s) in 12345.\n"
     ]
    }
   ],
   "source": [
    "\"\"\"question1 - Read a 5-digit number and a single digit number and check whether the single digit appears in the multi-digit number or not. If yes, then how many times?\"\"\"\n",
    "\n",
    "num = int(input(\"Enter a 5-digit number: \"))\n",
    "digit = int(input(\"Enter a single-digit number: \"))\n",
    "\n",
    "count = 0\n",
    "temp = num\n",
    "\n",
    "while temp > 0:\n",
    "    rem = temp % 10\n",
    "    if rem == digit:\n",
    "        count += 1\n",
    "    temp //= 10\n",
    "\n",
    "if count > 0:\n",
    "    print(f\"The digit {digit} appears {count} time(s) in {num}.\")\n",
    "else:\n",
    "    print(f\"The digit {digit} does not appear in {num}.\")\n"
   ]
  },
  {
   "cell_type": "code",
   "execution_count": 9,
   "id": "4eb0854d-dce1-4cb5-9c86-5e3ccd9415e0",
   "metadata": {},
   "outputs": [
    {
     "name": "stdin",
     "output_type": "stream",
     "text": [
      "Enter number 1:  45\n",
      "Enter number 2:  45\n",
      "Enter number 3:  45\n",
      "Enter number 4:  4545\n",
      "Enter number 5:  45\n",
      "Enter number 6:  3\n",
      "Enter number 7:  4\n",
      "Enter number 8:  5\n",
      "Enter number 9:  6\n",
      "Enter number 10:  7\n"
     ]
    },
    {
     "name": "stdout",
     "output_type": "stream",
     "text": [
      "4545 1\n"
     ]
    }
   ],
   "source": [
    "\"\"\"question2 - Read 10 single-digit numbers and display maximum along with number of occurrences.\"\"\"\n",
    "\n",
    "max_num = -1\n",
    "count = 0\n",
    "i = 1\n",
    "\n",
    "while i <= 10:\n",
    "    n = int(input(f\"Enter number {i}: \"))\n",
    "    if n > max_num:\n",
    "        max_num = n\n",
    "        count = 1\n",
    "    elif n == max_num:\n",
    "        count += 1\n",
    "    i += 1\n",
    "\n",
    "print(max_num, count)\n"
   ]
  },
  {
   "cell_type": "code",
   "execution_count": 11,
   "id": "419875d7-39fe-403b-8e34-b409c25dd2d6",
   "metadata": {},
   "outputs": [
    {
     "name": "stdin",
     "output_type": "stream",
     "text": [
      "Enter number 1:  35\n",
      "Enter number 2:  35\n",
      "Enter number 3:  35\n",
      "Enter number 4:  45\n",
      "Enter number 5:  45\n",
      "Enter number 6:  45\n",
      "Enter number 7:  23\n",
      "Enter number 8:  34\n",
      "Enter number 9:  45\n",
      "Enter number 10:  45\n"
     ]
    },
    {
     "name": "stdout",
     "output_type": "stream",
     "text": [
      "Length of longest increasing series is: 3\n"
     ]
    }
   ],
   "source": [
    "\"\"\"question3 - Read 10 values and display the length of the longest increasing series (without using list, set, tuple, or dictionary).\"\"\"\n",
    "\n",
    "prev = int(input(\"Enter number 1: \"))\n",
    "long = 1\n",
    "curr = 1\n",
    "i = 2\n",
    "\n",
    "while i <= 10:\n",
    "    num = int(input(f\"Enter number {i}: \"))\n",
    "    if num > prev:\n",
    "        curr += 1\n",
    "    else:\n",
    "        if curr > long:\n",
    "            long = curr\n",
    "        curr = 1\n",
    "    prev = num\n",
    "    i += 1\n",
    "\n",
    "if curr > long:\n",
    "    long = curr\n",
    "\n",
    "print(\"Length of longest increasing series is:\", long)\n"
   ]
  },
  {
   "cell_type": "code",
   "execution_count": 22,
   "id": "20b2ae60-d688-40b7-af5c-50e6e5bcd178",
   "metadata": {},
   "outputs": [
    {
     "name": "stdin",
     "output_type": "stream",
     "text": [
      "Enter first number:  6\n",
      "Enter second number:  78\n"
     ]
    },
    {
     "name": "stdout",
     "output_type": "stream",
     "text": [
      "GCD is: 6\n"
     ]
    }
   ],
   "source": [
    "\"\"\"question4 - Write a program to read 2 numbers and display their greatest common divisor (GCD).\"\"\"\n",
    "\n",
    "a = int(input(\"Enter first number: \"))\n",
    "b = int(input(\"Enter second number: \"))\n",
    "\n",
    "while b != 0:\n",
    "    temp = b\n",
    "    b = a % b\n",
    "    a = temp\n",
    "\n",
    "print(\"GCD is:\", a)\n"
   ]
  },
  {
   "cell_type": "code",
   "execution_count": 21,
   "id": "9511d9e2-68c0-42a5-af7a-478b57edc6b8",
   "metadata": {},
   "outputs": [
    {
     "name": "stdin",
     "output_type": "stream",
     "text": [
      "Enter the number of lines:  6\n"
     ]
    },
    {
     "name": "stdout",
     "output_type": "stream",
     "text": [
      "\n",
      "0 \n",
      "1 0 \n",
      "1 0 1 \n",
      "0 1 0 1 \n",
      "0 1 0 1 0 \n",
      "1 0 1 0 1 0 \n"
     ]
    }
   ],
   "source": [
    "\"\"\"5)Write a program to read a single digit number that denotes number of lines to\n",
    "be displayed and generate following pattern.\n",
    "Suppose if we enter 6 than pattern will be like this \"\"\"  \n",
    "\n",
    "\n",
    "num1 =int(input(\"Enter the number of lines: \"))\n",
    "\n",
    "pointer=False\n",
    "for i in range(0,num1+1) :\n",
    "    for j in range(0,i): \n",
    "       \n",
    "        if(pointer): \n",
    "            print(1,end =\" \")\n",
    "            pointer=False \n",
    "        else : \n",
    "            print(0,end =\" \")\n",
    "            pointer=True\n",
    "    print()\n",
    "    "
   ]
  },
  {
   "cell_type": "code",
   "execution_count": 26,
   "id": "035c0a2d-ccc6-453c-a489-10fd57f9ceeb",
   "metadata": {},
   "outputs": [
    {
     "name": "stdin",
     "output_type": "stream",
     "text": [
      "Enter number 1:  34\n",
      "Enter number 2:  5\n",
      "Enter number 3:  6\n",
      "Enter number 4:  7\n",
      "Enter number 5:  23\n",
      "Enter number 6:  45\n",
      "Enter number 7:  21\n",
      "Enter number 8:  6\n",
      "Enter number 9:  7\n",
      "Enter number 10:  56\n"
     ]
    },
    {
     "name": "stdout",
     "output_type": "stream",
     "text": [
      "Second maximum is: 45\n"
     ]
    }
   ],
   "source": [
    "\"\"\"question6 - Write a program to read 10 values and display the second maximum out of them.\"\"\"\n",
    "\n",
    "first_max = -999999\n",
    "second_max = -999999\n",
    "\n",
    "i = 1\n",
    "while i <= 10:\n",
    "    n = int(input(f\"Enter number {i}: \"))\n",
    "    if n > first_max:\n",
    "        second_max = first_max\n",
    "        first_max = n\n",
    "    elif n > second_max and n != first_max:\n",
    "        second_max = n\n",
    "    i += 1\n",
    "\n",
    "if second_max == -999999:\n",
    "    print(\"All numbers are equal. No distinct second maximum exists.\")\n",
    "else:\n",
    "    print(\"Second maximum is:\", second_max)\n"
   ]
  },
  {
   "cell_type": "code",
   "execution_count": 24,
   "id": "c5271acf-e23d-4267-bef3-ef4dab3e5cf4",
   "metadata": {},
   "outputs": [
    {
     "name": "stdout",
     "output_type": "stream",
     "text": [
      "Super Palindromes between 1 and 50 are:\n",
      "1\n",
      "2\n",
      "3\n",
      "11\n",
      "22\n"
     ]
    }
   ],
   "source": [
    "\"\"\"question7 - Write a program to display all super palindromes between 1 and 50.\"\"\"\n",
    "\n",
    "def is_palindro(num):\n",
    "    temp = num\n",
    "    rev = 0\n",
    "    while temp > 0:\n",
    "        rev = rev * 10 + (temp % 10)\n",
    "        temp //= 10\n",
    "    return rev == num\n",
    "\n",
    "print(\"Super Palindromes between 1 and 50 are:\")\n",
    "num = 1\n",
    "while num <= 50:\n",
    "    if is_palindro(num):\n",
    "        sq = num * num\n",
    "        if is_palindro(sq):\n",
    "            print(num)\n",
    "    num += 1\n"
   ]
  },
  {
   "cell_type": "code",
   "execution_count": null,
   "id": "4bc2a2b4-f44a-4ab3-92c3-858b0b1a72d7",
   "metadata": {},
   "outputs": [],
   "source": []
  },
  {
   "cell_type": "code",
   "execution_count": null,
   "id": "5d5b7798-e25f-471b-bc6f-16d4378f41e1",
   "metadata": {},
   "outputs": [],
   "source": []
  }
 ],
 "metadata": {
  "kernelspec": {
   "display_name": "Python 3 (ipykernel)",
   "language": "python",
   "name": "python3"
  },
  "language_info": {
   "codemirror_mode": {
    "name": "ipython",
    "version": 3
   },
   "file_extension": ".py",
   "mimetype": "text/x-python",
   "name": "python",
   "nbconvert_exporter": "python",
   "pygments_lexer": "ipython3",
   "version": "3.11.7"
  },
  "widgets": {
   "application/vnd.jupyter.widget-state+json": {
    "state": {},
    "version_major": 2,
    "version_minor": 0
   }
  }
 },
 "nbformat": 4,
 "nbformat_minor": 5
}
